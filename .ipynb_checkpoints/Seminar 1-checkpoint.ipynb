{
 "cells": [
  {
   "cell_type": "markdown",
   "metadata": {},
   "source": [
    "# NAIL025 - EVA - Seminar 1"
   ]
  },
  {
   "cell_type": "code",
   "execution_count": 1,
   "metadata": {
    "collapsed": true
   },
   "outputs": [],
   "source": [
    "# Imports\n",
    "import ga # GeneticAlgorithms\n",
    "import numpy as np # numpy\n",
    "import pylab as py # plots"
   ]
  },
  {
   "cell_type": "code",
   "execution_count": 37,
   "metadata": {
    "collapsed": true
   },
   "outputs": [],
   "source": [
    "# Hyperparameters\n",
    "gene_length=31\n",
    "population=10"
   ]
  },
  {
   "cell_type": "code",
   "execution_count": 38,
   "metadata": {},
   "outputs": [],
   "source": [
    "# OneMAX algorithm - we seek 111111111111111111...\n",
    "class OneMax(ga.algorithms.BaseGeneticAlgorithm):\n",
    "    def eval_fitness(self, chromosome):\n",
    "        \"\"\"\n",
    "        Evaluate the fitness score for a chromosome.\n",
    "        Does not use caching.\n",
    "        You should probably call get_fitness().\n",
    "        \"\"\"\n",
    "        score=0\n",
    "        for gene in chromosome.genes:\n",
    "            score += sum(map(int, gene.dna))\n",
    "        return score"
   ]
  },
  {
   "cell_type": "code",
   "execution_count": 39,
   "metadata": {},
   "outputs": [
    {
     "name": "stdout",
     "output_type": "stream",
     "text": [
      "28\n",
      "Chromosome<1111111111101011111111111101111>\n"
     ]
    }
   ],
   "source": [
    "# create genes\n",
    "chromosomes = ga.chromosomes.Chromosome.create_random(gene_length=gene_length, n=population) \n",
    "\n",
    "# init alg\n",
    "alg = OneMax(chromosomes)\n",
    "\n",
    "# run simulation\n",
    "best = alg.run(generations, p_mutate, p_crossover)\n",
    "\n",
    "# print results\n",
    "print(alg.eval_fitness(best))\n",
    "print(best)"
   ]
  },
  {
   "cell_type": "code",
   "execution_count": 40,
   "metadata": {
    "collapsed": true
   },
   "outputs": [],
   "source": [
    "# Sum every other 1 in gene return both odd and even variants\n",
    "def count(l):\n",
    "    scoreA=0\n",
    "    scoreB=0\n",
    "    for i in range(0, len(l)):\n",
    "        if i%2==0:\n",
    "            scoreA+=l[i]\n",
    "        else:\n",
    "            scoreB+=l[i]\n",
    "        \n",
    "    return scoreA, scoreB\n",
    "\n",
    "# Find gene with every other base equal to 1\n",
    "class EveryOther(ga.algorithms.BaseGeneticAlgorithm):\n",
    "    def eval_fitness(self, chromosome):\n",
    "        \"\"\"\n",
    "        Evaluate the fitness score for a chromosome.\n",
    "        Does not use caching.\n",
    "        You should probably call get_fitness().\n",
    "        \"\"\"\n",
    "        score=0\n",
    "        for gene in chromosome.genes:\n",
    "            scoreA, scoreB = count(list(map(int, gene.dna)))\n",
    "            score += max(scoreA-scoreB, scoreB-scoreA)\n",
    "        return score"
   ]
  },
  {
   "cell_type": "code",
   "execution_count": 44,
   "metadata": {
    "collapsed": true
   },
   "outputs": [],
   "source": [
    "runs = []\n",
    "generations=2000\n",
    "r = 10\n",
    "parameters = [\n",
    "    (r, generations,0.15,0.6),\n",
    "    (r, generations, 0.06, 0.3),\n",
    "    (r, generations, 0.4, 0.0),\n",
    "    (r, generations, 0.0, 0.5)\n",
    "]"
   ]
  },
  {
   "cell_type": "code",
   "execution_count": 45,
   "metadata": {},
   "outputs": [],
   "source": [
    "for (r, generations, p_mutate, p_crossover) in parameters:\n",
    "    algs = []\n",
    "    for run in range(r):\n",
    "        # Prepare genes\n",
    "        chromosomes = ga.chromosomes.Chromosome.create_random(gene_length=gene_length, n=population) \n",
    "\n",
    "        # Init alg\n",
    "        alg = EveryOther(chromosomes)\n",
    "\n",
    "        # Simulate generations\n",
    "        alg.run(generations, p_mutate, p_crossover)\n",
    "        algs.append((alg, generations, p_mutate, p_crossover))\n",
    "    runs.append((r, generations, p_mutate, p_crossover, algs))"
   ]
  },
  {
   "cell_type": "code",
   "execution_count": 50,
   "metadata": {},
   "outputs": [
    {
     "data": {
      "text/plain": [
       "<matplotlib.legend.Legend at 0x7f70ec328710>"
      ]
     },
     "execution_count": 50,
     "metadata": {},
     "output_type": "execute_result"
    },
    {
     "data": {
      "image/png": "[encoded data removed]",
      "text/plain": [
       "<Figure size 720x576 with 1 Axes>"
      ]
     },
     "metadata": {
      "needs_background": "light"
     },
     "output_type": "display_data"
    }
   ],
   "source": [
    "for (r, generations, p_mutate, p_crossover, algs) in runs:\n",
    "    data = None\n",
    "    for alg in algs:\n",
    "        d = np.array([v for k, v in sorted(alg.overall_fittest_fit.items())])\n",
    "        if data == None:\n",
    "            data = d\n",
    "        else:\n",
    "            data += d\n",
    "    data /= len(algs)\n",
    "    \n",
    "    py.plot(data, label='{} ; {} ; {}'.format(generations,p_mutate,p_crossover))\n",
    "    py.fill_between(data, np.percentile(data, q=0.25, axis=0), np.percentile(data, q=0.75, axis=0), alpha=0.3)\n",
    "    \n",
    "py.rcParams['figure.figsize'] = [10, 8]\n",
    "py.xlabel('generation')\n",
    "py.ylabel('fitness')\n",
    "py.legend(loc='best')"
   ]
  },
  {
   "cell_type": "code",
   "execution_count": null,
   "metadata": {
    "collapsed": true
   },
   "outputs": [],
   "source": []
  }
 ],
 "metadata": {
  "kernelspec": {
   "display_name": "Python 3",
   "language": "python",
   "name": "python3"
  },
  "language_info": {
   "codemirror_mode": {
    "name": "ipython",
    "version": 3
   },
   "file_extension": ".py",
   "mimetype": "text/x-python",
   "name": "python",
   "nbconvert_exporter": "python",
   "pygments_lexer": "ipython3",
   "version": "3.6.9"
  }
 },
 "nbformat": 4,
 "nbformat_minor": 2
}
